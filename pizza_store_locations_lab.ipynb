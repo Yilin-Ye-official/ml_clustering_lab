{
 "cells": [
  {
   "cell_type": "markdown",
   "metadata": {},
   "source": [
    "# Clustering lab\n",
    "## Using clustering to find best store locations\n",
    "\n",
    "Imagine the following problem:<br>\n",
    "You own the pizza chain, and you collected data about pizza deliveries in a certain neighborhood. The data contains a coordinate of each delivery as a pair *(Latitude,Longitude)*. You do not have any stores in this neighborhood, and driving there takes a lot of resources from your business. So you decide to open $K$ new stores in this area. The goal is, based on the frequent delivery data, determine the best locations for the new stores.\n",
    "\n",
    "You need to perform the $K$-means clustering of delivery locations, and otput the best location for $K$ new stores. How would you choose the location of the store within each cluster that minimizes the overall distancebetween the store and the delivery address?\n",
    "\n",
    "The data is 2-dimensional and it is easy to plot it to see if the locations of new stores make sense."
   ]
  },
  {
   "cell_type": "code",
   "execution_count": 1,
   "metadata": {},
   "outputs": [],
   "source": [
    "%matplotlib inline\n",
    "import matplotlib.pyplot as plt\n",
    "import seaborn as sns; sns.set()  # for plot styling\n",
    "import pandas as pd\n",
    "import numpy as np"
   ]
  },
  {
   "cell_type": "markdown",
   "metadata": {},
   "source": [
    "The data is a real data collected by [this person](https://github.com/angelddaz) while working as a pizza delivery driver. The file [pizza_delivery_locations.csv](https://docs.google.com/spreadsheets/d/1guQN-_EykRqqlY2R3uYfopNX9pc8p-E8oHJr-RTXtQU/edit?usp=sharing) is a subset of the original data and contains only *(Latitude,Longitude)* of each delivery address. Download the file and update the path below."
   ]
  },
  {
   "cell_type": "code",
   "execution_count": 2,
   "metadata": {},
   "outputs": [],
   "source": [
    "data_file = \"/Users/elaine/Desktop/ML2020labs/pizza_delivery_locations.csv\""
   ]
  },
  {
   "cell_type": "code",
   "execution_count": 4,
   "metadata": {},
   "outputs": [
    {
     "name": "stdout",
     "output_type": "stream",
     "text": [
      "Index(['Latitude', 'Longitude'], dtype='object')\n"
     ]
    },
    {
     "data": {
      "text/plain": [
       "array([[  43.666573, -116.263356],\n",
       "       [  43.652722, -116.259743],\n",
       "       [  43.624462, -116.21835 ],\n",
       "       ...,\n",
       "       [  43.652722, -116.259743],\n",
       "       [  43.648076, -116.23413 ],\n",
       "       [  43.659428, -116.231891]])"
      ]
     },
     "execution_count": 4,
     "metadata": {},
     "output_type": "execute_result"
    }
   ],
   "source": [
    "data = pd.read_csv(data_file)\n",
    "print(data.columns)\n",
    "len(data)\n",
    "\n",
    "# convert dataframe to a 2D numpy array - it is easier to work with it\n",
    "data = data.to_numpy()"
   ]
  },
  {
   "cell_type": "markdown",
   "metadata": {},
   "source": [
    "## Task 1.\n",
    "\n",
    "Use $K$-means clustering algorithm to find the best locations for new pizza stores for $K$=2, $K$=3 and $K$=4. The answers should be represented as lists of *(Latitide,Longitude)* tuples for each value of $K$.\n",
    "\n",
    "You can use the custom code from the k-means demo, or you can use the `sklearn.KMeans` module to perform clustering."
   ]
  },
  {
   "cell_type": "code",
   "execution_count": 48,
   "metadata": {},
   "outputs": [],
   "source": [
    "# clustering code for 2,3 and 4 clusters\n",
    "from sklearn.cluster import KMeans\n",
    "X = data\n",
    "kmeans1 = KMeans(n_clusters=2, random_state=0).fit(X)\n",
    "kmeans1.cluster_centers_\n",
    "y_1 = kmeans1.fit_predict(X)\n",
    "\n",
    "kmeans2 = KMeans(n_clusters=3, random_state=0).fit(X)\n",
    "kmeans2.cluster_centers_\n",
    "y_2 = kmeans2.fit_predict(X)\n",
    "\n",
    "kmeans3 = KMeans(n_clusters=4, random_state=0).fit(X)\n",
    "kmeans3.cluster_centers_\n",
    "y_3 = kmeans3.fit_predict(X)"
   ]
  },
  {
   "cell_type": "code",
   "execution_count": 52,
   "metadata": {},
   "outputs": [],
   "source": [
    "# Extracting best store locations for each cluster of addresses\n",
    "\n",
    "#centers of k = 2\n",
    "k2_center = kmeans1.cluster_centers_\n",
    "\n",
    "#centers of k = 3\n",
    "k3_center = kmeans2.cluster_centers_\n",
    "\n",
    "#centers of k = 4\n",
    "k4_center = kmeans3.cluster_centers_\n"
   ]
  },
  {
   "cell_type": "markdown",
   "metadata": {},
   "source": [
    "\n",
    "\n",
    "for k = 2, the centers are:\n",
    "[[  43.66816551, -116.2660482 ],\n",
    "[  43.63727286, -116.22524745]]\n",
    "\n",
    "for k = 3, the centers are:\n",
    "[[  43.66816551, -116.2660482 ],\n",
    "[  43.64181413, -116.24036593],\n",
    "[  43.63263042, -116.20979217]]\n",
    "\n",
    "for k = 4, the centers are:\n",
    "[[  43.66395605, -116.26687948],\n",
    "[  43.63263042, -116.20979217],\n",
    "[  43.64181413, -116.24036593],\n",
    "[  43.723879  , -116.255046  ]]\n",
    "\n"
   ]
  },
  {
   "cell_type": "markdown",
   "metadata": {},
   "source": [
    "## Task 2\n",
    "Visualize clusters by plotting each data point and coloring it with the different color according to the cluster to which it belongs. Also plot the locations of new stores for each value of $K$. Some examples of the final visualizations are given below."
   ]
  },
  {
   "cell_type": "markdown",
   "metadata": {},
   "source": [
    "## Examples of cluster visualization in 2D"
   ]
  },
  {
   "cell_type": "code",
   "execution_count": 44,
   "metadata": {},
   "outputs": [
    {
     "data": {
      "image/png": "[encoded data removed]",
      "text/plain": [
       "<Figure size 432x288 with 1 Axes>"
      ]
     },
     "metadata": {},
     "output_type": "display_data"
    }
   ],
   "source": [
    "# Plotting original data\n",
    "data_original = pd.read_csv(data_file)\n",
    "plot_original = data_original.plot.scatter(x ='Latitude', y ='Longitude', c='black')"
   ]
  },
  {
   "cell_type": "code",
   "execution_count": 49,
   "metadata": {},
   "outputs": [
    {
     "data": {
      "image/png": "[encoded data removed]",
      "text/plain": [
       "<Figure size 432x288 with 1 Axes>"
      ]
     },
     "metadata": {},
     "output_type": "display_data"
    }
   ],
   "source": [
    "# Plotting clusters with centers\n",
    "plt.scatter(\n",
    "    X[y_1 == 0, 0], X[y_1 == 0, 1], c='green',\n",
    "    label='cluster 1'\n",
    ")\n",
    "\n",
    "plt.scatter(\n",
    "    X[y_1 == 1, 0], X[y_1 == 1, 1], c='orange', \n",
    "    label='cluster 2'\n",
    ")\n",
    "\n",
    "\n",
    "# plot the centroids\n",
    "plt.scatter(\n",
    "    kmeans1.cluster_centers_[:, 0], kmeans1.cluster_centers_[:, 1], marker='v',\n",
    "    c='red', \n",
    "    label='centroids', edgecolor='black'\n",
    ")\n",
    "plt.xlabel(\"Longitude\")\n",
    "plt.ylabel(\"Latitude\")\n",
    "plt.legend(scatterpoints=1)\n",
    "plt.grid()\n",
    "plt.show()"
   ]
  },
  {
   "cell_type": "code",
   "execution_count": 50,
   "metadata": {},
   "outputs": [
    {
     "data": {
      "image/png": "[encoded data removed]",
      "text/plain": [
       "<Figure size 432x288 with 1 Axes>"
      ]
     },
     "metadata": {},
     "output_type": "display_data"
    }
   ],
   "source": [
    "# Plotting clusters with centers\n",
    "plt.scatter(\n",
    "    X[y_2 == 0, 0], X[y_2 == 0, 1], c='green',\n",
    "    label='cluster 1'\n",
    ")\n",
    "\n",
    "plt.scatter(\n",
    "    X[y_2 == 1, 0], X[y_2 == 1, 1], c='orange', \n",
    "    label='cluster 2'\n",
    ")\n",
    "\n",
    "plt.scatter(\n",
    "    X[y_2 == 2, 0], X[y_2 == 2, 1], c='blue', \n",
    "    label='cluster 3'\n",
    ")\n",
    "\n",
    "# plot the centroids\n",
    "plt.scatter(\n",
    "    kmeans2.cluster_centers_[:, 0], kmeans2.cluster_centers_[:, 1], marker='v',\n",
    "    c='red', \n",
    "    label='centroids', edgecolor='black'\n",
    ")\n",
    "plt.xlabel(\"Longitude\")\n",
    "plt.ylabel(\"Latitude\")\n",
    "\n",
    "plt.legend(scatterpoints=1)\n",
    "plt.grid()\n",
    "plt.show()\n"
   ]
  },
  {
   "cell_type": "code",
   "execution_count": 51,
   "metadata": {},
   "outputs": [
    {
     "data": {
      "image/png": "[encoded data removed]",
      "text/plain": [
       "<Figure size 432x288 with 1 Axes>"
      ]
     },
     "metadata": {},
     "output_type": "display_data"
    }
   ],
   "source": [
    "# Plotting clusters with centers\n",
    "plt.scatter(\n",
    "    X[y_3 == 0, 0], X[y_3 == 0, 1], c='green',\n",
    "    label='cluster 1'\n",
    ")\n",
    "\n",
    "plt.scatter(\n",
    "    X[y_3 == 1, 0], X[y_3 == 1, 1], c='orange', \n",
    "    label='cluster 2'\n",
    ")\n",
    "\n",
    "plt.scatter(\n",
    "    X[y_3 == 2, 0], X[y_3 == 2, 1], c='blue', \n",
    "    label='cluster 3'\n",
    ")\n",
    "\n",
    "plt.scatter(\n",
    "    X[y_3 == 3, 0], X[y_3 == 3, 1], c='brown', \n",
    "    label='cluster 4'\n",
    ")\n",
    "\n",
    "# plot the centroids\n",
    "plt.scatter(\n",
    "    kmeans3.cluster_centers_[:, 0], kmeans3.cluster_centers_[:, 1], marker='v',\n",
    "    c='red', \n",
    "    label='centroids', edgecolor='black'\n",
    ")\n",
    "\n",
    "plt.xlabel(\"Longitude\")\n",
    "plt.ylabel(\"Latitude\")\n",
    "\n",
    "plt.legend(scatterpoints=1)\n",
    "plt.grid()\n",
    "plt.show()\n"
   ]
  },
  {
   "cell_type": "markdown",
   "metadata": {},
   "source": [
    "Copyright &copy; 2020 Marina Barsky. All rights reserved."
   ]
  }
 ],
 "metadata": {
  "kernelspec": {
   "display_name": "Python 3",
   "language": "python",
   "name": "python3"
  },
  "language_info": {
   "codemirror_mode": {
    "name": "ipython",
    "version": 3
   },
   "file_extension": ".py",
   "mimetype": "text/x-python",
   "name": "python",
   "nbconvert_exporter": "python",
   "pygments_lexer": "ipython3",
   "version": "3.8.3"
  }
 },
 "nbformat": 4,
 "nbformat_minor": 4
}
